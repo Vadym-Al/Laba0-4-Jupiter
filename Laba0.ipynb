{
 "cells": [
  {
   "cell_type": "markdown",
   "id": "1f632d75",
   "metadata": {},
   "source": [
    "<h2>Завдання 1</h2>\n",
    "<p>Щоб вибрати номер варіанта, запустіть оператор</p>"
   ]
  },
  {
   "cell_type": "code",
   "execution_count": 1,
   "id": "7e3ca39b",
   "metadata": {},
   "outputs": [
    {
     "name": "stdout",
     "output_type": "stream",
     "text": [
      "7\n"
     ]
    }
   ],
   "source": [
    "N = ord(\"V\") % 10 + 1\n",
    "print(N)"
   ]
  },
  {
   "cell_type": "markdown",
   "id": "5fc17874",
   "metadata": {},
   "source": [
    "<h2>Завдання 3</h2>\n",
    "<p>За допомогою мови Markdown та HTML тегів для країни, відповідно до свого номеру варіанту (Ісландія), ввести інформацію щодо <u>площини</u>, <u>населення</u>, <u>державного устрою</u>, видатних персоналій, пам’яток культури та природи тощо. При оформленні інформації повинні бути використані:</p>\n",
    "\n",
    "- [x] заголовки різних рівнів;\n",
    "- [x] різні види накреслення символів (курсив, напівжирний тощо);\n",
    "- [x] символи різних кольорів;\n",
    "- [x] рамки навколо тексту;\n",
    "- [x] таблиці;\n",
    "- [x] вкладені списки;\n",
    "- [x] картинки за допомогою посилань та вбудовані;\n",
    "- [x] гіперпосилання;\n",
    "- [x] за допомогою HTML тегу <svg> намалювати флаг країни."
   ]
  },
  {
   "cell_type": "markdown",
   "id": "57bb969f",
   "metadata": {},
   "source": [
    "<blockquote style=\"border-left: 5px solid #0033A0; padding-left: 15px;\">\n",
    "    \n",
    "# Ісландія\n",
    "\n",
    "## Площа\n",
    "Ісландія має площу приблизно [103,000 км²](https://uk.wikipedia.org/wiki/%D0%86%D1%81%D0%BB%D0%B0%D0%BD%D0%B4%D1%96%D1%8F).\n",
    "\n",
    "## Населення\n",
    "Населення країни становить близько [360 тисяч осіб](https://uk.wikipedia.org/wiki/%D0%86%D1%81%D0%BB%D0%B0%D0%BD%D0%B4%D1%96%D1%8F).\n",
    "\n",
    "## Державний устрій\n",
    "Ісландія є [парламентською республікою](https://uk.wikipedia.org/wiki/%D0%86%D1%81%D0%BB%D0%B0%D0%BD%D0%B4%D1%96%D1%8F).\n",
    "\n",
    "## Видатні персоналії\n",
    "- *Лейфур Ейрікссон*: відомий вікінг і дослідник, відкривач Америки.\n",
    "- **Бьорк Гудмундсдоттір**: світово відома музикантка та співачка.\n",
    "\n",
    "## Пам’ятки культури та природи\n",
    "1. *Гейзери і гарячі джерела*: унікальний природний феномен.\n",
    "   - *Сторккур*: один з найвідоміших гейзерів.\n",
    "   - *Гейзер Гейсір*: надає назву всій групі гейзерів.\n",
    "    \n",
    "2. **Сельфосс водоспад**: прекрасний водоспад на річці.\n",
    "\n",
    "## Флаг Ісландії\n",
    "<svg xmlns=\"http://www.w3.org/2000/svg\" viewBox=\"0 0 300 200\" width=\"300\" height=\"200\"><rect width=\"300\" height=\"67\" fill=\"#005cbf\"/><rect y=\"67\" width=\"300\" height=\"67\" fill=\"#ffffff\"/><rect y=\"134\" width=\"300\" height=\"66\" fill=\"#005cbf\"/><rect x=\"112\" y=\"0\" width=\"75\" height=\"200\" fill=\"#ffffff\"/><rect x=\"0\" y=\"67\" width=\"300\" height=\"66\" fill=\"#ffffff\"/></svg>\n",
    "\n",
    "## Таблиця: Населення по роках\n",
    "\n",
    "| Рік | Населення |\n",
    "|-----|-----------|\n",
    "| 2000| 280 тис.  |\n",
    "| 2010| 320 тис.  |\n",
    "| 2020| 360 тис.  |\n",
    "\n",
    "## Кольорові символи\n",
    "Текст з використанням <span style=\"color:blue\">синього</span> та <span style=\"color:red\">червоного</span> кольорів.\n",
    "\n",
    "## Картинки\n",
    "![Гейзери](https://th.bing.com/th/id/OIP.eio4QdOgQmDm5aqHYFlrFQHaEK?w=323&h=181&c=7&r=0&o=5&dpr=1.5&pid=1.7)\n",
    "\n",
    "</blockquote>"
   ]
  },
  {
   "cell_type": "markdown",
   "id": "8fc8527e",
   "metadata": {},
   "source": [
    "<h2>Завдання 4</h2>\n",
    "<p>Реалізувати алгоритм переведення чисел (цілих та з\n",
    "рухомою комою) з десяткової системи числення в двійкову.</p>\n",
    "\n",
    "<p>\n",
    "Приклади:<br>\n",
    "<span style=\"color:blue\">In [2] </span>   task_7()<br>\n",
    "32<br>\n",
    "<span style=\"color:red\">Out [2] </span> '32 у двійковій системі буде 0|100000'<br>\n",
    "<span style=\"color:blue\">In [3] </span>   task_7()<br>\n",
    "-10.25<br>\n",
    "<span style=\"color:red\">Out [3] </span> '-10.25 у двійковій системі буде<br>\n",
    "1|1010.010'\n",
    "</p>"
   ]
  },
  {
   "cell_type": "code",
   "execution_count": 3,
   "id": "229c1742",
   "metadata": {},
   "outputs": [
    {
     "name": "stdout",
     "output_type": "stream",
     "text": [
      "100000\n",
      "-1010.01\n"
     ]
    }
   ],
   "source": [
    "def decimal_to_binary(number):\n",
    "    integer_part = abs(int(number))\n",
    "    decimal_part = abs(number) - integer_part if '.' in str(number) else 0\n",
    "\n",
    "    binary_integer = bin(integer_part)[2:]\n",
    "\n",
    "    binary_decimal = ''\n",
    "    if decimal_part > 0:\n",
    "        binary_decimal = '.'\n",
    "        while decimal_part > 0:\n",
    "            decimal_part *= 2\n",
    "            binary_decimal += str(int(decimal_part))\n",
    "            decimal_part -= int(decimal_part)\n",
    "\n",
    "    sign = '-' if number < 0 else ''\n",
    "\n",
    "    result = f\"{sign}{binary_integer}{binary_decimal}\"\n",
    "\n",
    "    return result\n",
    "\n",
    "print(decimal_to_binary(32))\n",
    "print(decimal_to_binary(-10.25))"
   ]
  },
  {
   "cell_type": "code",
   "execution_count": null,
   "id": "c51e4039",
   "metadata": {},
   "outputs": [],
   "source": []
  }
 ],
 "metadata": {
  "kernelspec": {
   "display_name": "Python 3 (ipykernel)",
   "language": "python",
   "name": "python3"
  },
  "language_info": {
   "codemirror_mode": {
    "name": "ipython",
    "version": 3
   },
   "file_extension": ".py",
   "mimetype": "text/x-python",
   "name": "python",
   "nbconvert_exporter": "python",
   "pygments_lexer": "ipython3",
   "version": "3.11.5"
  }
 },
 "nbformat": 4,
 "nbformat_minor": 5
}
