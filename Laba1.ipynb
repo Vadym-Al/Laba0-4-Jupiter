{
 "cells": [
  {
   "cell_type": "code",
   "execution_count": 1,
   "id": "79f13aea",
   "metadata": {},
   "outputs": [
    {
     "name": "stdout",
     "output_type": "stream",
     "text": [
      "3\n"
     ]
    }
   ],
   "source": [
    "N = ord(\"V\") % 3 + 1\n",
    "print(N)"
   ]
  },
  {
   "cell_type": "markdown",
   "id": "1d7d74a2",
   "metadata": {},
   "source": [
    "## <a id=\"menu\">Варіант 3. Дослідження втрат бронетранспортерів (БТР).</a>\n",
    "1. Створіть функцію, яка приймає назву файлу та назву стовпця як параметр та повертає масив numpy зі значеннями стовпця.\n",
    "2. Використовуючи функцію з попереднього завдання, створіть масив numpy зі значень стовпця «APC» (Armored personnel carrier).\n",
    "3. Знайдіть добові втрати БТР.\n",
    "4. Знайдіть 5 найбільших добових втрат БТР.\n",
    "5. Визначте, скільки БТР було знищено влітку 2023 року.\n",
    "6. Знайдіть середнє значення знищених БТР за 100-500 днів війни.\n",
    "7. Створіть графік втрат БТР за останні 200 днів (починаючи з останньої дати в наборі даних)"
   ]
  },
  {
   "cell_type": "markdown",
   "id": "946365e9",
   "metadata": {},
   "source": [
    "### Поради:\n",
    "1. Використовуйте csv.reader()функцію для читання файлу csv.\n",
    "2. Пропустіть перший рядок (із заголовками стовпців).\n",
    "3. Не використовуйте цикли чи інші ітераційні конструкції для обробки масивів numpy. Використовуйте лише зрізи та/або універсальні (векторизовані) функції.\n",
    "4. Створіть функції до завдань 3-7 кожного варіанта."
   ]
  },
  {
   "cell_type": "markdown",
   "id": "968a8641",
   "metadata": {},
   "source": [
    "#### <a href=\"#menu\" id=\"task1\">Створіть функцію, яка приймає назву файлу та назву стовпця як параметр та повертає масив numpy зі значеннями стовпця.<a/>"
   ]
  },
  {
   "cell_type": "code",
   "execution_count": 2,
   "id": "9d0dfc2d",
   "metadata": {},
   "outputs": [],
   "source": [
    "import csv\n",
    "import numpy as np\n",
    "\n",
    "def columnReader(fileName, columnName):\n",
    "    arr = np.array([])\n",
    "    with open(fileName, mode ='r') as file:\n",
    "        csvFile = csv.reader(file)\n",
    "        csvHeadings = next(csvFile)\n",
    "        ind = csvHeadings.index(columnName)\n",
    "        for row in csvFile:\n",
    "            arr = np.append(arr, int(row[ind]))\n",
    "    return arr"
   ]
  },
  {
   "cell_type": "code",
   "execution_count": 3,
   "id": "f9a8b0de",
   "metadata": {},
   "outputs": [
    {
     "data": {
      "text/plain": [
       "array([  516.,   706.,   706.,   816.,   846.,   862.,   900.,   939.,\n",
       "         945.,   985.,   999.,  1036.,  1070.,  1105.,  1165.,  1205.,\n",
       "        1226.,  1249.,  1279.,  1375.,  1435.,  1448.,  1470.,  1487.,\n",
       "        1535.,  1556.,  1578.,  1597.,  1625.,  1640.,  1664.,  1694.,\n",
       "        1710.,  1723.,  1735.,  1751.,  1776.,  1830.,  1844.,  1858.,\n",
       "        1861.,  1891.,  1891.,  1895.,  1911.,  1923.,  1946.,  1964.,\n",
       "        1968.,  1976.,  1982.,  2002.,  2041.,  2063.,  2087.,  2118.,\n",
       "        2162.,  2205.,  2238.,  2258.,  2308.,  2342.,  2389.,  2418.,\n",
       "        2445.,  2471.,  2519.,  2567.,  2610.,  2651.,  2686.,  2713.,\n",
       "        2741.,  2764.,  2808.,  2856.,  2873.,  2900.,  2934.,  2958.,\n",
       "        2974.,  3009.,  3043.,  3063.,  3090.,  3116.,  3141.,  3166.,\n",
       "        3194.,  3213.,  3235.,  3246.,  3258.,  3270.,  3282.,  3302.,\n",
       "        3343.,  3354.,  3366.,  3379.,  3392.,  3400.,  3416.,  3429.,\n",
       "        3438.,  3450.,  3466.,  3484.,  3492.,  3503.,  3528.,  3545.,\n",
       "        3563.,  3573.,  3577.,  3588.,  3606.,  3614.,  3632.,  3637.,\n",
       "        3645.,  3659.,  3687.,  3704.,  3720.,  3726.,  3736.,  3737.,\n",
       "        3744.,  3744.,  3772.,  3789.,  3797.,  3811.,  3815.,  3823.,\n",
       "        3828.,  3829.,  3832.,  3832.,  3866.,  3874.,  3879.,  3886.,\n",
       "        3892.,  3905.,  3912.,  3920.,  3929.,  3942.,  3950.,  3959.,\n",
       "        3971.,  3979.,  3987.,  3995.,  4004.,  4011.,  4014.,  4022.,\n",
       "        4026.,  4032.,  4051.,  4055.,  4070.,  4076.,  4086.,  4100.,\n",
       "        4108.,  4115.,  4126.,  4141.,  4152.,  4162.,  4179.,  4195.,\n",
       "        4212.,  4224.,  4230.,  4238.,  4243.,  4245.,  4251.,  4254.,\n",
       "        4257.,  4269.,  4294.,  4312.,  4345.,  4366.,  4403.,  4430.,\n",
       "        4459.,  4484.,  4520.,  4557.,  4575.,  4584.,  4617.,  4640.,\n",
       "        4662.,  4665.,  4682.,  4690.,  4701.,  4718.,  4720.,  4724.,\n",
       "        4748.,  4776.,  4796.,  4807.,  4832.,  4857.,  4881.,  4889.,\n",
       "        4909.,  4932.,  4949.,  4975.,  4991.,  5018.,  5038.,  5064.,\n",
       "        5093.,  5111.,  5133.,  5149.,  5162.,  5181.,  5167.,  5172.,\n",
       "        5179.,  5193.,  5205.,  5219.,  5235.,  5255.,  5258.,  5266.,\n",
       "        5284.,  5295.,  5321.,  5351.,  5364.,  5378.,  5401.,  5453.,\n",
       "        5485.,  5501.,  5525.,  5552.,  5580.,  5601.,  5611.,  5630.,\n",
       "        5654.,  5666.,  5682.,  5696.,  5730.,  5742.,  5748.,  5773.,\n",
       "        5797.,  5804.,  5808.,  5815.,  5817.,  5822.,  5827.,  5832.,\n",
       "        5837.,  5844.,  5848.,  5856.,  5861.,  5866.,  5872.,  5877.,\n",
       "        5883.,  5886.,  5892.,  5900.,  5905.,  5909.,  5911.,  5912.,\n",
       "        5917.,  5920.,  5928.,  5930.,  5937.,  5946.,  5952.,  5958.,\n",
       "        5963.,  5969.,  5974.,  5979.,  5981.,  5986.,  5994.,  6010.,\n",
       "        6017.,  6024.,  6037.,  6047.,  6059.,  6075.,  6084.,  6093.,\n",
       "        6100.,  6106.,  6108.,  6124.,  6125.,  6130.,  6147.,  6154.,\n",
       "        6159.,  6159.,  6167.,  6173.,  6183.,  6204.,  6215.,  6215.,\n",
       "        6235.,  6241.,  6256.,  6268.,  6276.,  6284.,  6307.,  6334.,\n",
       "        6340.,  6344.,  6366.,  6369.,  6378.,  6382.,  6382.,  6388.,\n",
       "        6394.,  6405.,  6415.,  6443.,  6458.,  6468.,  6471.,  6474.,\n",
       "        6488.,  6492.,  6500.,  6507.,  6517.,  6520.,  6533.,  6545.,\n",
       "        6553.,  6562.,  6569.,  6593.,  6600.,  6609.,  6615.,  6621.,\n",
       "        6630.,  6638.,  6658.,  6673.,  6683.,  6692.,  6703.,  6714.,\n",
       "        6723.,  6736.,  6742.,  6762.,  6769.,  6774.,  6789.,  6799.,\n",
       "        6810.,  6823.,  6830.,  6853.,  6869.,  6879.,  6887.,  6898.,\n",
       "        6921.,  6932.,  6947.,  6953.,  6966.,  6966.,  6974.,  6977.,\n",
       "        6981.,  6986.,  6993.,  6999.,  7005.,  7013.,  7016.,  7020.,\n",
       "        7024.,  7028.,  7038.,  7043.,  7053.,  7069.,  7073.,  7083.,\n",
       "        7087.,  7098.,  7110.,  7120.,  7126.,  7130.,  7131.,  7139.,\n",
       "        7151.,  7162.,  7178.,  7181.,  7184.,  7189.,  7192.,  7193.,\n",
       "        7199.,  7216.,  7224.,  7238.,  7248.,  7253.,  7257.,  7275.,\n",
       "        7287.,  7295.,  7307.,  7325.,  7336.,  7348.,  7365.,  7373.,\n",
       "        7377.,  7382.,  7398.,  7407.,  7419.,  7424.,  7432.,  7435.,\n",
       "        7442.,  7456.,  7467.,  7469.,  7472.,  7478.,  7490.,  7502.,\n",
       "        7512.,  7523.,  7543.,  7560.,  7576.,  7600.,  7607.,  7631.,\n",
       "        7636.,  7642.,  7653.,  7667.,  7683.,  7706.,  7729.,  7735.,\n",
       "        7750.,  7771.,  7783.,  7798.,  7804.,  7806.,  7820.,  7834.,\n",
       "        7847.,  7857.,  7863.,  7868.,  7888.,  7899.,  7908.,  7917.,\n",
       "        7932.,  7944.,  7953.,  7964.,  7966.,  7983.,  7990.,  7999.,\n",
       "        8008.,  8019.,  8026.,  8034.,  8051.,  8059.,  8065.,  8080.,\n",
       "        8096.,  8105.,  8118.,  8131.,  8136.,  8147.,  8161.,  8167.,\n",
       "        8178.,  8188.,  8205.,  8213.,  8234.,  8249.,  8251.,  8262.,\n",
       "        8270.,  8278.,  8290.,  8303.,  8318.,  8324.,  8335.,  8354.,\n",
       "        8370.,  8380.,  8398.,  8410.,  8424.,  8435.,  8449.,  8476.,\n",
       "        8488.,  8511.,  8521.,  8539.,  8554.,  8562.,  8579.,  8596.,\n",
       "        8604.,  8613.,  8637.,  8649.,  8663.,  8670.,  8682.,  8703.,\n",
       "        8726.,  8739.,  8755.,  8767.,  8778.,  8792.,  8810.,  8814.,\n",
       "        8824.,  8828.,  8834.,  8851.,  8868.,  8883.,  8891.,  8912.,\n",
       "        8914.,  8927.,  8946.,  8950.,  8962.,  8972.,  8984.,  8991.,\n",
       "        9000.,  9008.,  9026.,  9052.,  9082.,  9102.,  9123.,  9126.,\n",
       "        9129.,  9220.,  9264.,  9313.,  9337.,  9362.,  9385.,  9405.,\n",
       "        9420.,  9437.,  9557.,  9612.,  9631.,  9653.,  9669.,  9697.,\n",
       "        9715.,  9726.,  9749.,  9758.,  9775.,  9804.,  9834.,  9877.,\n",
       "        9901.,  9939.,  9953.,  9958.,  9974.,  9996., 10014., 10017.,\n",
       "       10041., 10073.])"
      ]
     },
     "execution_count": 3,
     "metadata": {},
     "output_type": "execute_result"
    }
   ],
   "source": [
    "columnReader('russia_losses_equipment.csv', 'APC')"
   ]
  },
  {
   "cell_type": "markdown",
   "id": "b944886f",
   "metadata": {},
   "source": [
    "#### <a href=\"#menu\" id=\"task2\">Використовуючи функцію з попереднього завдання, створіть масив numpy зі значень стовпця «APC» (Armored personnel carrier).</a>"
   ]
  },
  {
   "cell_type": "code",
   "execution_count": 5,
   "id": "9421384b",
   "metadata": {},
   "outputs": [
    {
     "name": "stdout",
     "output_type": "stream",
     "text": [
      "[  516.   706.   706.   816.   846.   862.   900.   939.   945.   985.\n",
      "   999.  1036.  1070.  1105.  1165.  1205.  1226.  1249.  1279.  1375.\n",
      "  1435.  1448.  1470.  1487.  1535.  1556.  1578.  1597.  1625.  1640.\n",
      "  1664.  1694.  1710.  1723.  1735.  1751.  1776.  1830.  1844.  1858.\n",
      "  1861.  1891.  1891.  1895.  1911.  1923.  1946.  1964.  1968.  1976.\n",
      "  1982.  2002.  2041.  2063.  2087.  2118.  2162.  2205.  2238.  2258.\n",
      "  2308.  2342.  2389.  2418.  2445.  2471.  2519.  2567.  2610.  2651.\n",
      "  2686.  2713.  2741.  2764.  2808.  2856.  2873.  2900.  2934.  2958.\n",
      "  2974.  3009.  3043.  3063.  3090.  3116.  3141.  3166.  3194.  3213.\n",
      "  3235.  3246.  3258.  3270.  3282.  3302.  3343.  3354.  3366.  3379.\n",
      "  3392.  3400.  3416.  3429.  3438.  3450.  3466.  3484.  3492.  3503.\n",
      "  3528.  3545.  3563.  3573.  3577.  3588.  3606.  3614.  3632.  3637.\n",
      "  3645.  3659.  3687.  3704.  3720.  3726.  3736.  3737.  3744.  3744.\n",
      "  3772.  3789.  3797.  3811.  3815.  3823.  3828.  3829.  3832.  3832.\n",
      "  3866.  3874.  3879.  3886.  3892.  3905.  3912.  3920.  3929.  3942.\n",
      "  3950.  3959.  3971.  3979.  3987.  3995.  4004.  4011.  4014.  4022.\n",
      "  4026.  4032.  4051.  4055.  4070.  4076.  4086.  4100.  4108.  4115.\n",
      "  4126.  4141.  4152.  4162.  4179.  4195.  4212.  4224.  4230.  4238.\n",
      "  4243.  4245.  4251.  4254.  4257.  4269.  4294.  4312.  4345.  4366.\n",
      "  4403.  4430.  4459.  4484.  4520.  4557.  4575.  4584.  4617.  4640.\n",
      "  4662.  4665.  4682.  4690.  4701.  4718.  4720.  4724.  4748.  4776.\n",
      "  4796.  4807.  4832.  4857.  4881.  4889.  4909.  4932.  4949.  4975.\n",
      "  4991.  5018.  5038.  5064.  5093.  5111.  5133.  5149.  5162.  5181.\n",
      "  5167.  5172.  5179.  5193.  5205.  5219.  5235.  5255.  5258.  5266.\n",
      "  5284.  5295.  5321.  5351.  5364.  5378.  5401.  5453.  5485.  5501.\n",
      "  5525.  5552.  5580.  5601.  5611.  5630.  5654.  5666.  5682.  5696.\n",
      "  5730.  5742.  5748.  5773.  5797.  5804.  5808.  5815.  5817.  5822.\n",
      "  5827.  5832.  5837.  5844.  5848.  5856.  5861.  5866.  5872.  5877.\n",
      "  5883.  5886.  5892.  5900.  5905.  5909.  5911.  5912.  5917.  5920.\n",
      "  5928.  5930.  5937.  5946.  5952.  5958.  5963.  5969.  5974.  5979.\n",
      "  5981.  5986.  5994.  6010.  6017.  6024.  6037.  6047.  6059.  6075.\n",
      "  6084.  6093.  6100.  6106.  6108.  6124.  6125.  6130.  6147.  6154.\n",
      "  6159.  6159.  6167.  6173.  6183.  6204.  6215.  6215.  6235.  6241.\n",
      "  6256.  6268.  6276.  6284.  6307.  6334.  6340.  6344.  6366.  6369.\n",
      "  6378.  6382.  6382.  6388.  6394.  6405.  6415.  6443.  6458.  6468.\n",
      "  6471.  6474.  6488.  6492.  6500.  6507.  6517.  6520.  6533.  6545.\n",
      "  6553.  6562.  6569.  6593.  6600.  6609.  6615.  6621.  6630.  6638.\n",
      "  6658.  6673.  6683.  6692.  6703.  6714.  6723.  6736.  6742.  6762.\n",
      "  6769.  6774.  6789.  6799.  6810.  6823.  6830.  6853.  6869.  6879.\n",
      "  6887.  6898.  6921.  6932.  6947.  6953.  6966.  6966.  6974.  6977.\n",
      "  6981.  6986.  6993.  6999.  7005.  7013.  7016.  7020.  7024.  7028.\n",
      "  7038.  7043.  7053.  7069.  7073.  7083.  7087.  7098.  7110.  7120.\n",
      "  7126.  7130.  7131.  7139.  7151.  7162.  7178.  7181.  7184.  7189.\n",
      "  7192.  7193.  7199.  7216.  7224.  7238.  7248.  7253.  7257.  7275.\n",
      "  7287.  7295.  7307.  7325.  7336.  7348.  7365.  7373.  7377.  7382.\n",
      "  7398.  7407.  7419.  7424.  7432.  7435.  7442.  7456.  7467.  7469.\n",
      "  7472.  7478.  7490.  7502.  7512.  7523.  7543.  7560.  7576.  7600.\n",
      "  7607.  7631.  7636.  7642.  7653.  7667.  7683.  7706.  7729.  7735.\n",
      "  7750.  7771.  7783.  7798.  7804.  7806.  7820.  7834.  7847.  7857.\n",
      "  7863.  7868.  7888.  7899.  7908.  7917.  7932.  7944.  7953.  7964.\n",
      "  7966.  7983.  7990.  7999.  8008.  8019.  8026.  8034.  8051.  8059.\n",
      "  8065.  8080.  8096.  8105.  8118.  8131.  8136.  8147.  8161.  8167.\n",
      "  8178.  8188.  8205.  8213.  8234.  8249.  8251.  8262.  8270.  8278.\n",
      "  8290.  8303.  8318.  8324.  8335.  8354.  8370.  8380.  8398.  8410.\n",
      "  8424.  8435.  8449.  8476.  8488.  8511.  8521.  8539.  8554.  8562.\n",
      "  8579.  8596.  8604.  8613.  8637.  8649.  8663.  8670.  8682.  8703.\n",
      "  8726.  8739.  8755.  8767.  8778.  8792.  8810.  8814.  8824.  8828.\n",
      "  8834.  8851.  8868.  8883.  8891.  8912.  8914.  8927.  8946.  8950.\n",
      "  8962.  8972.  8984.  8991.  9000.  9008.  9026.  9052.  9082.  9102.\n",
      "  9123.  9126.  9129.  9220.  9264.  9313.  9337.  9362.  9385.  9405.\n",
      "  9420.  9437.  9557.  9612.  9631.  9653.  9669.  9697.  9715.  9726.\n",
      "  9749.  9758.  9775.  9804.  9834.  9877.  9901.  9939.  9953.  9958.\n",
      "  9974.  9996. 10014. 10017. 10041. 10073.]\n"
     ]
    }
   ],
   "source": [
    "arr = np.array(columnReader('russia_losses_equipment.csv', 'APC'))\n",
    "print(arr)"
   ]
  },
  {
   "cell_type": "markdown",
   "id": "b15d07e6",
   "metadata": {},
   "source": [
    "#### <a href=\"#menu\" id=\"task3\">Знайдіть добові втрати БТР.</a>"
   ]
  },
  {
   "cell_type": "code",
   "execution_count": 6,
   "id": "c2594159",
   "metadata": {},
   "outputs": [],
   "source": [
    "def dailyAPCLosses(fileName, columnName):\n",
    "    arr = np.array([])\n",
    "    with open(fileName, mode ='r') as file:\n",
    "        csvFile = csv.reader(file)\n",
    "        csvHeadings = next(csvFile)\n",
    "        ind = csvHeadings.index(columnName)\n",
    "        day = csvHeadings.index('day')\n",
    "        currentDay = 1\n",
    "        previousDay = 0\n",
    "        for row in csvFile:\n",
    "            currentDay = currentDay + 1\n",
    "            while int(row[day]) != currentDay:\n",
    "                arr = np.append(arr, 0)\n",
    "                currentDay = currentDay + 1\n",
    "            else:\n",
    "                arr = np.append(arr, int(row[ind]) - previousDay)\n",
    "            previousDay = int(row[ind])\n",
    "        \n",
    "    return arr"
   ]
  },
  {
   "cell_type": "code",
   "execution_count": 7,
   "id": "44f05259",
   "metadata": {},
   "outputs": [
    {
     "name": "stdout",
     "output_type": "stream",
     "text": [
      "[516. 190.   0. 110.  30.  16.  38.  39.   6.  40.  14.  37.  34.  35.\n",
      "  60.  40.  21.  23.  30.  96.  60.  13.  22.  17.  48.  21.  22.  19.\n",
      "  28.  15.  24.  30.  16.  13.  12.  16.  25.  54.  14.  14.   3.  30.\n",
      "   0.   4.  16.  12.  23.  18.   4.   8.   6.  20.  39.  22.  24.  31.\n",
      "  44.  43.  33.  20.  50.  34.  47.  29.  27.  26.  48.  48.  43.  41.\n",
      "  35.  27.  28.  23.  44.  48.  17.  27.  34.  24.  16.  35.  34.  20.\n",
      "  27.  26.  25.  25.  28.  19.  22.  11.  12.  12.  12.  20.  41.  11.\n",
      "  12.  13.  13.   8.  16.  13.   9.  12.  16.  18.   8.  11.  25.  17.\n",
      "  18.  10.   4.  11.  18.   8.  18.   5.   8.  14.  28.  17.  16.   6.\n",
      "  10.   1.   7.   0.  28.  17.   8.  14.   4.   8.   5.   1.   3.   0.\n",
      "  34.   8.   5.   7.   6.  13.   7.   8.   9.  13.   8.   9.  12.   8.\n",
      "   8.   8.   9.   7.   3.   8.   4.   6.  19.   4.  15.   6.  10.  14.\n",
      "   8.   7.  11.  15.  11.  10.  17.  16.  17.  12.   6.   8.   5.   2.\n",
      "   6.   3.   3.  12.  25.  18.  33.  21.  37.  27.  29.  25.  36.  37.\n",
      "  18.   9.  33.  23.  22.   3.  17.   8.  11.  17.   2.   4.  24.  28.\n",
      "  20.  11.  25.  25.  24.   8.  20.  23.  17.  26.  16.  27.  20.  26.\n",
      "  29.  18.  22.  16.  13.  19. -14.   5.   7.  14.  12.  14.  16.  20.\n",
      "   3.   8.  18.  11.  26.  30.  13.  14.  23.  52.  32.  16.  24.  27.\n",
      "  28.  21.  10.  19.  24.  12.  16.  14.  34.  12.   6.  25.  24.   7.\n",
      "   4.   7.   2.   5.   5.   5.   5.   7.   4.   8.   5.   5.   6.   5.\n",
      "   6.   3.   6.   8.   5.   4.   2.   1.   5.   3.   8.   2.   7.   9.\n",
      "   6.   6.   5.   6.   5.   5.   2.   5.   8.  16.   7.   7.  13.  10.\n",
      "  12.  16.   9.   9.   7.   6.   2.  16.   1.   5.  17.   7.   5.   0.\n",
      "   8.   6.  10.  21.  11.   0.  20.   6.  15.  12.   8.   8.  23.  27.\n",
      "   6.   4.  22.   3.   9.   4.   0.   6.   6.  11.  10.  28.  15.  10.\n",
      "   3.   3.  14.   4.   8.   7.  10.   3.  13.  12.   8.   9.   7.  24.\n",
      "   7.   9.   6.   6.   9.   8.  20.  15.  10.   9.  11.  11.   9.  13.\n",
      "   6.  20.   7.   5.  15.  10.  11.  13.   7.  23.  16.  10.   8.  11.\n",
      "  23.  11.  15.   6.  13.   0.   8.   3.   4.   5.   7.   6.   6.   8.\n",
      "   3.   4.   4.   4.  10.   5.  10.  16.   4.  10.   4.  11.  12.  10.\n",
      "   6.   4.   1.   8.  12.  11.  16.   3.   3.   5.   3.   1.   6.  17.\n",
      "   8.  14.  10.   5.   4.  18.  12.   8.  12.  18.  11.  12.  17.   8.\n",
      "   4.   5.  16.   9.  12.   5.   8.   3.   7.  14.  11.   2.   3.   6.\n",
      "  12.  12.  10.  11.  20.  17.  16.  24.   7.  24.   5.   6.  11.  14.\n",
      "  16.  23.  23.   6.  15.  21.  12.  15.   6.   2.  14.  14.  13.  10.\n",
      "   6.   5.  20.  11.   9.   9.  15.  12.   9.  11.   2.  17.   7.   9.\n",
      "   9.  11.   7.   8.  17.   8.   6.  15.  16.   9.  13.  13.   5.  11.\n",
      "  14.   6.  11.  10.  17.   8.  21.  15.   2.  11.   8.   8.  12.  13.\n",
      "  15.   6.  11.  19.  16.  10.  18.  12.  14.  11.  14.  27.  12.  23.\n",
      "  10.  18.  15.   8.  17.  17.   8.   9.  24.  12.  14.   7.  12.  21.\n",
      "  23.  13.  16.  12.  11.  14.  18.   4.  10.   4.   6.  17.  17.  15.\n",
      "   8.  21.   2.  13.  19.   4.  12.  10.  12.   7.   9.   8.  18.  26.\n",
      "  30.  20.  21.   3.   3.  91.  44.  49.  24.  25.  23.  20.  15.  17.\n",
      " 120.  55.  19.  22.  16.  28.  18.  11.  23.   9.  17.  29.  30.  43.\n",
      "  24.  38.  14.   5.  16.  22.  18.   3.  24.  32.]\n"
     ]
    }
   ],
   "source": [
    "arr = np.array(dailyAPCLosses('russia_losses_equipment.csv', 'APC'))\n",
    "print(arr)"
   ]
  },
  {
   "cell_type": "markdown",
   "id": "d9bc2777",
   "metadata": {},
   "source": [
    "#### <a href=\"#menu\" id=\"task4\">Знайдіть 5 найбільших добових втрат БТР.</a>"
   ]
  },
  {
   "cell_type": "code",
   "execution_count": 8,
   "id": "56f91874",
   "metadata": {},
   "outputs": [
    {
     "name": "stdout",
     "output_type": "stream",
     "text": [
      "[516. 190. 120.]\n"
     ]
    }
   ],
   "source": [
    "def threeMaxAPCLosses():\n",
    "    arr = np.array(dailyAPCLosses('russia_losses_equipment.csv', 'APC'))\n",
    "    top3 = np.argsort(arr)[::-1][:3]\n",
    "    print(arr[top3])\n",
    "\n",
    "threeMaxAPCLosses()   "
   ]
  },
  {
   "cell_type": "markdown",
   "id": "1399fd73",
   "metadata": {},
   "source": [
    "#### <a href=\"#menu\" id=\"task5\">Визначте, скільки БТР було знищено влітку 2023 року.</a>"
   ]
  },
  {
   "cell_type": "code",
   "execution_count": 20,
   "id": "56b098d8",
   "metadata": {},
   "outputs": [],
   "source": [
    "def summerLosses(fileName, columnName):\n",
    "    with open(fileName, mode ='r') as file:\n",
    "        csvFile = csv.reader(file)\n",
    "        csvHeadings = next(csvFile)\n",
    "        ind = csvHeadings.index(columnName)\n",
    "        date = csvHeadings.index('date')\n",
    "        firstDayOfSummer = 0\n",
    "        lastDayOfSummer = 0\n",
    "        for row in csvFile:\n",
    "            if '2023-06-01' in row[date]:\n",
    "                firstDayOfSummer = int(row[ind])\n",
    "            if '2023-08-31' in row[date]:\n",
    "                lastDayOfSummer = int(row[ind])\n",
    "    return lastDayOfSummer-firstDayOfSummer"
   ]
  },
  {
   "cell_type": "code",
   "execution_count": 10,
   "id": "81d6fa9d",
   "metadata": {},
   "outputs": [
    {
     "data": {
      "text/plain": [
       "969"
      ]
     },
     "execution_count": 10,
     "metadata": {},
     "output_type": "execute_result"
    }
   ],
   "source": [
    "summerLosses('russia_losses_equipment.csv', 'APC')"
   ]
  },
  {
   "cell_type": "markdown",
   "id": "b2b918f5",
   "metadata": {},
   "source": [
    "#### <a href=\"#menu\" id=\"task6\">Знайдіть середнє значення знищених БТР за 100-500 днів війни.</a>"
   ]
  },
  {
   "cell_type": "code",
   "execution_count": 14,
   "id": "cad1709a",
   "metadata": {},
   "outputs": [
    {
     "data": {
      "text/plain": [
       "12.694"
      ]
     },
     "execution_count": 14,
     "metadata": {},
     "output_type": "execute_result"
    }
   ],
   "source": [
    "def lastDaysAvg():\n",
    "    arr = dailyAPCLosses('russia_losses_equipment.csv', 'APC')\n",
    "    return np.average(arr[-500:])\n",
    "\n",
    "lastDaysAvg()"
   ]
  },
  {
   "cell_type": "markdown",
   "id": "77a5bc52",
   "metadata": {},
   "source": [
    "#### <a href=\"#menu\" id=\"task7\">Створіть графік втрат БТР за останні 200 днів (починаючи з останньої дати в наборі даних)</a>"
   ]
  },
  {
   "cell_type": "markdown",
   "id": "8ec25c42",
   "metadata": {},
   "source": [
    "### Вимоги до графіків:\n",
    "1. встановити тип лінії (пунктирна, пунктирна тощо);\n",
    "2. графіки повинні бути підписані;\n",
    "3. додайте легенду;\n",
    "4. додати сітку та вказати колір і тип ліній;\n",
    "5. додайте назву графіку, позначки осей і значення но осях;\n",
    "6. змінити розмір графіку (наприклад, 8x16 дюймів) і розподільну здатність (наприклад, 100 dpi);\n",
    "7. зберегти графік у файл формату png."
   ]
  },
  {
   "cell_type": "code",
   "execution_count": 17,
   "id": "e9fa317a",
   "metadata": {},
   "outputs": [
    {
     "data": {
      "image/png": "[encoded data removed]",
      "text/plain": [
       "<Figure size 1600x800 with 1 Axes>"
      ]
     },
     "metadata": {},
     "output_type": "display_data"
    }
   ],
   "source": [
    "import matplotlib.pyplot as plt\n",
    "\n",
    "def buildGraph():\n",
    "    arr = np.array(dailyAPCLosses('russia_losses_equipment.csv', 'APC')[:365])\n",
    "    %matplotlib inline\n",
    "    x = np.arange(arr.size - 200, arr.size)\n",
    "    y = arr\n",
    "\n",
    "    plt.rcParams['figure.dpi']=100\n",
    "    plt.figure(figsize=(16,8))\n",
    "\n",
    "    ax = plt.axes()\n",
    "    ax.set_facecolor(\"#F0F0F0\")\n",
    "\n",
    "\n",
    "    plt.plot(y, ls = ':', linewidth = '2', marker = '*', color='orange', ms = 7, mfc = '#FFFFCC', label='APC losses')\n",
    "\n",
    "    font1 = {'family':'serif'}\n",
    "    plt.title(\"APC losses in a first year\", fontdict = font1)\n",
    "    plt.xlabel(\"Day\", fontdict = font1)\n",
    "    plt.ylabel(\"APC\", fontdict = font1)\n",
    "\n",
    "    plt.legend()\n",
    "\n",
    "    plt.grid(axis = 'y', color = '#2B3856', linestyle = '--', linewidth = 0.5)\n",
    "\n",
    "    plt.savefig(\"APCLosses.png\")\n",
    "\n",
    "    plt.show()\n",
    "    \n",
    "buildGraph()"
   ]
  },
  {
   "cell_type": "code",
   "execution_count": null,
   "id": "303179d6",
   "metadata": {},
   "outputs": [],
   "source": []
  }
 ],
 "metadata": {
  "kernelspec": {
   "display_name": "Python 3 (ipykernel)",
   "language": "python",
   "name": "python3"
  },
  "language_info": {
   "codemirror_mode": {
    "name": "ipython",
    "version": 3
   },
   "file_extension": ".py",
   "mimetype": "text/x-python",
   "name": "python",
   "nbconvert_exporter": "python",
   "pygments_lexer": "ipython3",
   "version": "3.11.5"
  }
 },
 "nbformat": 4,
 "nbformat_minor": 5
}
