{
 "cells": [
  {
   "cell_type": "markdown",
   "id": "2a591846",
   "metadata": {},
   "source": [
    "## Вивчення основних функцій Pandas для аналізу даних."
   ]
  },
  {
   "cell_type": "code",
   "execution_count": 1,
   "id": "181c0c05",
   "metadata": {},
   "outputs": [
    {
     "name": "stdout",
     "output_type": "stream",
     "text": [
      "1\n"
     ]
    }
   ],
   "source": [
    "N = (1 + 4) % 5 + 1\n",
    "print(N)"
   ]
  },
  {
   "cell_type": "code",
   "execution_count": 2,
   "id": "8170525c",
   "metadata": {},
   "outputs": [],
   "source": [
    "import pandas as pd\n",
    "df = pd.read_csv('NationalNames.csv')"
   ]
  },
  {
   "cell_type": "markdown",
   "id": "df8c8aad",
   "metadata": {},
   "source": [
    "| **Варіант** |                          **Номери вправ**                          |\n",
    "|:-----------:|:------------------------------------------------------------------:|\n",
    "|      1      | 1, 2, 3, 5, 10, 11, 12, 13, 14, 15, 16, 17, 18, 21, 22, 23, 24, 26 |"
   ]
  },
  {
   "cell_type": "markdown",
   "id": "58875117",
   "metadata": {},
   "source": [
    "1. Виведіть перші 8 рядків набору даних."
   ]
  },
  {
   "cell_type": "code",
   "execution_count": 5,
   "id": "10652edc",
   "metadata": {},
   "outputs": [
    {
     "name": "stdout",
     "output_type": "stream",
     "text": [
      " Id      Name  Year Gender  Count\n",
      "  1      Mary  1880      F   7065\n",
      "  2      Anna  1880      F   2604\n",
      "  3      Emma  1880      F   2003\n",
      "  4 Elizabeth  1880      F   1939\n",
      "  5    Minnie  1880      F   1746\n",
      "  6  Margaret  1880      F   1578\n",
      "  7       Ida  1880      F   1472\n",
      "  8     Alice  1880      F   1414\n"
     ]
    }
   ],
   "source": [
    "rows = df.head(8)\n",
    "print(rows.to_string(index=False))"
   ]
  },
  {
   "cell_type": "markdown",
   "id": "ae3962f1",
   "metadata": {},
   "source": [
    "2. Вивести останні 8 рядків набору даних."
   ]
  },
  {
   "cell_type": "code",
   "execution_count": 19,
   "id": "9db58a45",
   "metadata": {},
   "outputs": [
    {
     "name": "stdout",
     "output_type": "stream",
     "text": [
      "     Id    Name  Year Gender  Count\n",
      "1825426      Zo  2014      M      5\n",
      "1825427   Zyeir  2014      M      5\n",
      "1825428    Zyel  2014      M      5\n",
      "1825429  Zykeem  2014      M      5\n",
      "1825430  Zymeer  2014      M      5\n",
      "1825431 Zymiere  2014      M      5\n",
      "1825432   Zyran  2014      M      5\n",
      "1825433   Zyrin  2014      M      5\n"
     ]
    }
   ],
   "source": [
    "lastКows = df.tail(8)\n",
    "print(lastКows.to_string(index=False))"
   ]
  },
  {
   "cell_type": "markdown",
   "id": "d8ad6216",
   "metadata": {},
   "source": [
    "3. Отримайте імена стовпців набору даних"
   ]
  },
  {
   "cell_type": "code",
   "execution_count": 6,
   "id": "2da757c7",
   "metadata": {},
   "outputs": [
    {
     "name": "stdout",
     "output_type": "stream",
     "text": [
      "Index(['Id', 'Name', 'Year', 'Gender', 'Count'], dtype='object')\n"
     ]
    }
   ],
   "source": [
    "columnNames = df.columns\n",
    "print(columnNames)"
   ]
  },
  {
   "cell_type": "markdown",
   "id": "8db65e91",
   "metadata": {},
   "source": [
    "5. Знайдіть кількість унікальних імен у наборі даних"
   ]
  },
  {
   "cell_type": "code",
   "execution_count": 21,
   "id": "ff5d8c97",
   "metadata": {},
   "outputs": [
    {
     "name": "stdout",
     "output_type": "stream",
     "text": [
      "93889\n"
     ]
    }
   ],
   "source": [
    "uniqueСount = df['Name'].nunique()\n",
    "print(uniqueСcount)"
   ]
  },
  {
   "cell_type": "markdown",
   "id": "47cb4e09",
   "metadata": {},
   "source": [
    "10. Підрахуйте кількість унікальних імен у кожному році"
   ]
  },
  {
   "cell_type": "code",
   "execution_count": 22,
   "id": "5702f915",
   "metadata": {},
   "outputs": [
    {
     "name": "stdout",
     "output_type": "stream",
     "text": [
      "     Year   Name\n",
      "0    1880   1889\n",
      "1    1881   1830\n",
      "2    1882   2012\n",
      "3    1883   1962\n",
      "4    1884   2158\n",
      "..    ...    ...\n",
      "130  2010  31603\n",
      "131  2011  31418\n",
      "132  2012  31236\n",
      "133  2013  30774\n",
      "134  2014  30579\n",
      "\n",
      "[135 rows x 2 columns]\n"
     ]
    }
   ],
   "source": [
    "uniqueТamesИyНear = df.groupby('Year')['Name'].nunique().reset_index()\n",
    "print(uniqueТamesИyНear)"
   ]
  },
  {
   "cell_type": "markdown",
   "id": "cd87db42",
   "metadata": {},
   "source": [
    "12. Знайдіть найпопулярніше ім’я в році з найбільшою кількістю унікальних імен (тобто у 2008 році)"
   ]
  },
  {
   "cell_type": "code",
   "execution_count": 7,
   "id": "9e49333d",
   "metadata": {},
   "outputs": [
    {
     "name": "stdout",
     "output_type": "stream",
     "text": [
      "The name is 'Jacob' in 2008\n"
     ]
    }
   ],
   "source": [
    "yearNamesCounts = df.groupby('Year')['Name'].nunique()\n",
    "maxUniqueYear = yearNamesCounts.idxmax()\n",
    "uniqueYearNames = df[df['Year'] == maxUniqueYear]\n",
    "maxYearName = uniqueYearNames[uniqueYearNames['Count'] == uniqueYearNames['Count'].max()]['Name'].iloc[0]\n",
    "print(f\"The name is '{maxYearName}' in {maxUniqueYear}\")"
   ]
  },
  {
   "cell_type": "markdown",
   "id": "3227712b",
   "metadata": {},
   "source": [
    "13. Знайдіть рік, коли ім’я “Jacob” було найпопулярнішим серед жіночих імен"
   ]
  },
  {
   "cell_type": "code",
   "execution_count": 8,
   "id": "9ada25e6",
   "metadata": {},
   "outputs": [
    {
     "name": "stdout",
     "output_type": "stream",
     "text": [
      "     Id  Name  Year Gender  Count\n",
      "1455557 Jacob  2004      F    171\n"
     ]
    }
   ],
   "source": [
    "femaleJacobs = df[(df['Name'] == 'Jacob') & (df['Gender'] == 'F')]\n",
    "maxFemaleJacobsYear = femaleJacobs[femaleJacobs['Count'] == femaleJacobs['Count'].max()]\n",
    "print(maxFemaleJacobsYear.to_string(index=False))"
   ]
  },
  {
   "cell_type": "markdown",
   "id": "a548d237",
   "metadata": {},
   "source": [
    "14. Знайти рік із найбільшою кількістю гендерно нейтральних імен (однакові чоловічі та жіночі імена)"
   ]
  },
  {
   "cell_type": "code",
   "execution_count": 9,
   "id": "fcaf2f6f",
   "metadata": {},
   "outputs": [
    {
     "name": "stdout",
     "output_type": "stream",
     "text": [
      " Year  Gender Neutral Names\n",
      " 2008                  2557\n"
     ]
    }
   ],
   "source": [
    "gendersPerNameYear = df.groupby(['Year', 'Name'])['Gender'].nunique().reset_index()\n",
    "genderNeutralNames = gendersPerNameYear[gendersPerNameYear['Gender'] == 2]\n",
    "genderNeturalNamesPerYear = genderNeutralNames.groupby('Year')['Name'].count().reset_index()\n",
    "maxGenderNeturalYear = genderNeturalNamesPerYear[genderNeturalNamesPerYear['Name'] == genderNeturalNamesPerYear['Name'].max()]\n",
    "maxGenderNeturalYear.columns = ['Year', 'Gender Neutral Names']\n",
    "print(maxGenderNeturalYear.to_string(index=False))"
   ]
  },
  {
   "cell_type": "markdown",
   "id": "8988e8fb",
   "metadata": {},
   "source": [
    "15. Знайдіть загальну кількість народжень за рік."
   ]
  },
  {
   "cell_type": "code",
   "execution_count": 10,
   "id": "0e02b98b",
   "metadata": {},
   "outputs": [
    {
     "name": "stdout",
     "output_type": "stream",
     "text": [
      " Year   Count\n",
      " 1880  201484\n",
      " 1881  192699\n",
      " 1882  221538\n",
      " 1883  216950\n",
      " 1884  243467\n",
      " 1885  240855\n",
      " 1886  255319\n",
      " 1887  247396\n",
      " 1888  299480\n",
      " 1889  288950\n",
      " 1890  301402\n",
      " 1891  286678\n",
      " 1892  334383\n",
      " 1893  325223\n",
      " 1894  338694\n",
      " 1895  351028\n",
      " 1896  357490\n",
      " 1897  346960\n",
      " 1898  381463\n",
      " 1899  339235\n",
      " 1900  450327\n",
      " 1901  345819\n",
      " 1902  386736\n",
      " 1903  381207\n",
      " 1904  403496\n",
      " 1905  423948\n",
      " 1906  428462\n",
      " 1907  465399\n",
      " 1908  488657\n",
      " 1909  511227\n",
      " 1910  590719\n",
      " 1911  644267\n",
      " 1912  988048\n",
      " 1913 1137075\n",
      " 1914 1416310\n",
      " 1915 1832477\n",
      " 1916 1934422\n",
      " 1917 2006791\n",
      " 1918 2171184\n",
      " 1919 2110294\n",
      " 1920 2262746\n",
      " 1921 2334456\n",
      " 1922 2289206\n",
      " 1923 2302498\n",
      " 1924 2381627\n",
      " 1925 2333310\n",
      " 1926 2295809\n",
      " 1927 2319047\n",
      " 1928 2260635\n",
      " 1929 2191735\n",
      " 1930 2222937\n",
      " 1931 2103624\n",
      " 1932 2110802\n",
      " 1933 1998837\n",
      " 1934 2076330\n",
      " 1935 2089358\n",
      " 1936 2077176\n",
      " 1937 2130181\n",
      " 1938 2212118\n",
      " 1939 2203062\n",
      " 1940 2302225\n",
      " 1941 2435860\n",
      " 1942 2731319\n",
      " 1943 2821928\n",
      " 1944 2689659\n",
      " 1945 2652638\n",
      " 1946 3194834\n",
      " 1947 3601867\n",
      " 1948 3452283\n",
      " 1949 3484550\n",
      " 1950 3503853\n",
      " 1951 3681122\n",
      " 1952 3798975\n",
      " 1953 3850103\n",
      " 1954 3979056\n",
      " 1955 4012582\n",
      " 1956 4121206\n",
      " 1957 4200026\n",
      " 1958 4131596\n",
      " 1959 4156553\n",
      " 1960 4154810\n",
      " 1961 4139818\n",
      " 1962 4035493\n",
      " 1963 3958972\n",
      " 1964 3887864\n",
      " 1965 3626379\n",
      " 1966 3475832\n",
      " 1967 3395291\n",
      " 1968 3379031\n",
      " 1969 3476679\n",
      " 1970 3607741\n",
      " 1971 3432676\n",
      " 1972 3143851\n",
      " 1973 3017477\n",
      " 1974 3040518\n",
      " 1975 3019906\n",
      " 1976 3035000\n",
      " 1977 3176681\n",
      " 1978 3173908\n",
      " 1979 3326998\n",
      " 1980 3443809\n",
      " 1981 3458372\n",
      " 1982 3506648\n",
      " 1983 3461793\n",
      " 1984 3486803\n",
      " 1985 3567068\n",
      " 1986 3554828\n",
      " 1987 3603553\n",
      " 1988 3692441\n",
      " 1989 3843104\n",
      " 1990 3950252\n",
      " 1991 3893897\n",
      " 1992 3839692\n",
      " 1993 3768776\n",
      " 1994 3716231\n",
      " 1995 3660759\n",
      " 1996 3645627\n",
      " 1997 3623928\n",
      " 1998 3676165\n",
      " 1999 3691441\n",
      " 2000 3777007\n",
      " 2001 3740300\n",
      " 2002 3735021\n",
      " 2003 3798793\n",
      " 2004 3816939\n",
      " 2005 3840220\n",
      " 2006 3950840\n",
      " 2007 3991547\n",
      " 2008 3923523\n",
      " 2009 3812228\n",
      " 2010 3686589\n",
      " 2011 3646730\n",
      " 2012 3643336\n",
      " 2013 3626802\n",
      " 2014 3670151\n"
     ]
    }
   ],
   "source": [
    "totalBirthsPerYear = df.groupby('Year')['Count'].sum().reset_index()\n",
    "totalBirthsPerYear.columns = ['Year', 'Count']\n",
    "print(totalBirthsPerYear.to_string(index=False))"
   ]
  },
  {
   "cell_type": "markdown",
   "id": "353f9357",
   "metadata": {},
   "source": [
    "16. Знайдіть рік, коли народилося найбільше дітей"
   ]
  },
  {
   "cell_type": "code",
   "execution_count": 11,
   "id": "fb68f138",
   "metadata": {},
   "outputs": [
    {
     "name": "stdout",
     "output_type": "stream",
     "text": [
      "1957\n"
     ]
    }
   ],
   "source": [
    "maxBirthsPerYear = totalBirthsPerYear[totalBirthsPerYear['Count'] == totalBirthsPerYear['Count'].max()]\n",
    "print(maxBirthsPerYear.iloc[0]['Year'])"
   ]
  },
  {
   "cell_type": "markdown",
   "id": "37a3a157",
   "metadata": {},
   "source": [
    "17. Знайдіть кількість дівчаток та хлопчиків, які народились кожного року"
   ]
  },
  {
   "cell_type": "code",
   "execution_count": 13,
   "id": "77cc4159",
   "metadata": {},
   "outputs": [
    {
     "name": "stdout",
     "output_type": "stream",
     "text": [
      " Year       F       M\n",
      " 1880   90993  110491\n",
      " 1881   91954  100745\n",
      " 1882  107850  113688\n",
      " 1883  112321  104629\n",
      " 1884  129022  114445\n",
      " 1885  133055  107800\n",
      " 1886  144535  110784\n",
      " 1887  145982  101414\n",
      " 1888  178627  120853\n",
      " 1889  178366  110584\n",
      " 1890  190377  111025\n",
      " 1891  185482  101196\n",
      " 1892  212346  122037\n",
      " 1893  212906  112317\n",
      " 1894  222922  115772\n",
      " 1895  233630  117398\n",
      " 1896  237920  119570\n",
      " 1897  234202  112758\n",
      " 1898  258770  122693\n",
      " 1899  233023  106212\n",
      " 1900  299828  150499\n",
      " 1901  239348  106471\n",
      " 1902  264077  122659\n",
      " 1903  261973  119234\n",
      " 1904  275371  128125\n",
      " 1905  291629  132319\n",
      " 1906  295303  133159\n",
      " 1907  318566  146833\n",
      " 1908  334313  154344\n",
      " 1909  347228  163999\n",
      " 1910  396501  194218\n",
      " 1911  418299  225968\n",
      " 1912  558103  429945\n",
      " 1913  624518  512557\n",
      " 1914  761548  654762\n",
      " 1915  983874  848603\n",
      " 1916 1044323  890099\n",
      " 1917 1081280  925511\n",
      " 1918 1157647 1013537\n",
      " 1919 1130145  980149\n",
      " 1920 1198283 1064463\n",
      " 1921 1232999 1101457\n",
      " 1922 1200919 1088287\n",
      " 1923 1206330 1096168\n",
      " 1924 1248876 1132751\n",
      " 1925 1217352 1115958\n",
      " 1926 1185304 1110505\n",
      " 1927 1192330 1126717\n",
      " 1928 1153117 1107518\n",
      " 1929 1116422 1075313\n",
      " 1930 1125761 1097176\n",
      " 1931 1064497 1039127\n",
      " 1932 1066994 1043808\n",
      " 1933 1007710  991127\n",
      " 1934 1044039 1032291\n",
      " 1935 1048428 1040930\n",
      " 1936 1040202 1036974\n",
      " 1937 1063872 1066309\n",
      " 1938 1103277 1108841\n",
      " 1939 1096518 1106544\n",
      " 1940 1143325 1158900\n",
      " 1941 1207919 1227941\n",
      " 1942 1350545 1380774\n",
      " 1943 1395082 1426846\n",
      " 1944 1327104 1362555\n",
      " 1945 1307028 1345610\n",
      " 1946 1571184 1623650\n",
      " 1947 1772644 1829223\n",
      " 1948 1697814 1754469\n",
      " 1949 1710825 1773725\n",
      " 1950 1713180 1790673\n",
      " 1951 1800042 1881080\n",
      " 1952 1854698 1944277\n",
      " 1953 1880326 1969777\n",
      " 1954 1941682 2037374\n",
      " 1955 1954664 2057918\n",
      " 1956 2007512 2113694\n",
      " 1957 2044160 2155866\n",
      " 1958 2010884 2120712\n",
      " 1959 2023044 2133509\n",
      " 1960 2022093 2132717\n",
      " 1961 2017316 2122502\n",
      " 1962 1966548 2068945\n",
      " 1963 1927217 2031755\n",
      " 1964 1894594 1993270\n",
      " 1965 1765001 1861378\n",
      " 1966 1691868 1783964\n",
      " 1967 1650764 1744527\n",
      " 1968 1640103 1738928\n",
      " 1969 1686947 1789732\n",
      " 1970 1748147 1859594\n",
      " 1971 1663475 1769201\n",
      " 1972 1521185 1622666\n",
      " 1973 1458139 1559338\n",
      " 1974 1467413 1573105\n",
      " 1975 1457699 1562207\n",
      " 1976 1465096 1569904\n",
      " 1977 1532997 1643684\n",
      " 1978 1531658 1642250\n",
      " 1979 1605051 1721947\n",
      " 1980 1659933 1783876\n",
      " 1981 1667465 1790907\n",
      " 1982 1692678 1813970\n",
      " 1983 1670061 1791732\n",
      " 1984 1682973 1803830\n",
      " 1985 1720036 1847032\n",
      " 1986 1714664 1840164\n",
      " 1987 1737891 1865662\n",
      " 1988 1779839 1912602\n",
      " 1989 1843105 1999999\n",
      " 1990 1897709 2052543\n",
      " 1991 1874434 2019463\n",
      " 1992 1843304 1996388\n",
      " 1993 1808379 1960397\n",
      " 1994 1785074 1931157\n",
      " 1995 1757927 1902832\n",
      " 1996 1752249 1893378\n",
      " 1997 1739806 1884122\n",
      " 1998 1765915 1910250\n",
      " 1999 1772632 1918809\n",
      " 2000 1814601 1962406\n",
      " 2001 1799049 1941251\n",
      " 2002 1795206 1939815\n",
      " 2003 1825359 1973434\n",
      " 2004 1834145 1982794\n",
      " 2005 1845379 1994841\n",
      " 2006 1898463 2052377\n",
      " 2007 1919408 2072139\n",
      " 2008 1887234 2036289\n",
      " 2009 1832925 1979303\n",
      " 2010 1772738 1913851\n",
      " 2011 1753500 1893230\n",
      " 2012 1753922 1889414\n",
      " 2013 1745339 1881463\n",
      " 2014 1768775 1901376\n"
     ]
    }
   ],
   "source": [
    "yearGender = df.groupby(['Year', 'Gender'])['Count'].sum().reset_index()\n",
    "splitGender = yearGender.pivot(index='Year', columns='Gender', values='Count').reset_index()\n",
    "splitGender.columns = ['Year', 'F', 'M']\n",
    "print(splitGender.to_string(index=False))"
   ]
  },
  {
   "cell_type": "markdown",
   "id": "aeb5cd52",
   "metadata": {},
   "source": [
    "18. Підрахуйте кількість років, коли дівчаток народжувалось більше, ніж хлопчиків."
   ]
  },
  {
   "cell_type": "code",
   "execution_count": 31,
   "id": "ad285bd9",
   "metadata": {},
   "outputs": [
    {
     "name": "stdout",
     "output_type": "stream",
     "text": [
      "54\n"
     ]
    }
   ],
   "source": [
    "genderСounts = df.groupby(['Year', 'Gender'])['Count'].sum().unstack()\n",
    "yearsWithMoreFemales = (genderСounts['F'] > genderСounts['M']).sum()\n",
    "print(yearsWithMoreFemales)"
   ]
  },
  {
   "cell_type": "markdown",
   "id": "ff61065e",
   "metadata": {},
   "source": [
    "21. Порахуйте, скільки разів хлопчиків називали Barbara"
   ]
  },
  {
   "cell_type": "code",
   "execution_count": 26,
   "id": "ef2326ca",
   "metadata": {},
   "outputs": [
    {
     "name": "stdout",
     "output_type": "stream",
     "text": [
      "4139\n"
     ]
    }
   ],
   "source": [
    "barbara_male_count = df[(df['Name'] == 'Barbara') & (df['Gender'] == 'M')]['Count'].sum()\n",
    "print(barbara_male_count)"
   ]
  },
  {
   "cell_type": "markdown",
   "id": "9cfe68f4",
   "metadata": {},
   "source": [
    "22. Підрахуйте скільки років проводилось спостереження"
   ]
  },
  {
   "cell_type": "code",
   "execution_count": 23,
   "id": "0577d3e4",
   "metadata": {},
   "outputs": [
    {
     "name": "stdout",
     "output_type": "stream",
     "text": [
      "Спостереження проводилось 135 років\n"
     ]
    }
   ],
   "source": [
    "observedyears = df['Year'].unique()\n",
    "totalObservedYears = len(splitGender['Year'])\n",
    "print(f\"Спостереження проводилось {totalObservedYears} років\")"
   ]
  },
  {
   "cell_type": "markdown",
   "id": "f81a7fd2",
   "metadata": {},
   "source": [
    "23. Знати найпопулярніші гендерно-нейтральні імена (ті, що присутні кожного року)"
   ]
  },
  {
   "cell_type": "code",
   "execution_count": 32,
   "id": "eb3470a6",
   "metadata": {},
   "outputs": [
    {
     "name": "stdout",
     "output_type": "stream",
     "text": [
      "     Year     Name\n",
      "0    1880    Addie\n",
      "1    1881    Addie\n",
      "2    1882    Addie\n",
      "3    1883    Addie\n",
      "4    1884    Addie\n",
      "..    ...      ...\n",
      "130  2010  Aaliyah\n",
      "131  2011  Aalijah\n",
      "132  2012     Aadi\n",
      "133  2013     Aadi\n",
      "134  2014  Aalijah\n",
      "\n",
      "[135 rows x 2 columns]\n"
     ]
    }
   ],
   "source": [
    "gendersPerNameYear = df.groupby(['Year', 'Name'])['Gender'].nunique().reset_index()\n",
    "genderNeutralNames = gendersPerNameYear[gendersPerNameYear['Gender'] == 2]\n",
    "mostPopularNeutralNamesPerYear = genderNeutralNames.groupby('Year', as_index=False)['Name'].first()\n",
    "print(mostPopularNeutralNamesPerYear)"
   ]
  },
  {
   "cell_type": "markdown",
   "id": "a1591adb",
   "metadata": {},
   "source": [
    "24. Знайти найпопулярніше серед непопулярних імен (непопулярне ім’я, яким називали дітей найбільшу кількість разів )"
   ]
  },
  {
   "cell_type": "code",
   "execution_count": 36,
   "id": "5fc23283",
   "metadata": {},
   "outputs": [
    {
     "name": "stdout",
     "output_type": "stream",
     "text": [
      "Ім'я: Aabid, кількість разів: 5\n"
     ]
    }
   ],
   "source": [
    "nameCounts = df.groupby('Name')['Count'].sum().reset_index()\n",
    "leastPopularName = nameCounts.loc[nameCounts['Count'].idxmin()]\n",
    "mostPopularAmongUnpopular = df[df['Name'] == leastPopularName['Name']]\n",
    "result = f\"Ім'я: {leastPopularName['Name']}, кількість разів: {leastPopularName['Count']}\"\n",
    "print(result)"
   ]
  },
  {
   "cell_type": "markdown",
   "id": "3f65294d",
   "metadata": {},
   "source": [
    "26. Побудувати графіки розподілення кількості жіночих імен John та чоловічих імен Mary по роках."
   ]
  },
  {
   "cell_type": "code",
   "execution_count": 17,
   "id": "fb33bc03",
   "metadata": {},
   "outputs": [
    {
     "data": {
      "image/png": "[encoded data removed]",
      "text/plain": [
       "<Figure size 1200x600 with 1 Axes>"
      ]
     },
     "metadata": {},
     "output_type": "display_data"
    }
   ],
   "source": [
    "import matplotlib.pyplot as plt\n",
    "\n",
    "femaleJohns = df[(df['Name'] == 'John') & (df['Gender'] == 'F')]\n",
    "maleMarys = df[(df['Name'] == 'Mary') & (df['Gender'] == 'M')]\n",
    "femaleJohnsPerYear = femaleJohns.groupby('Year')['Count'].sum()\n",
    "maleMarysPerYear = maleMarys.groupby('Year')['Count'].sum()\n",
    "\n",
    "plt.figure(figsize=(12, 6))\n",
    "plt.plot(femaleJohnsPerYear.index, femaleJohnsPerYear.values, label='John')\n",
    "plt.plot(maleMarysPerYear.index, maleMarysPerYear.values, label='Mary')\n",
    "plt.xlabel('Year')\n",
    "plt.legend(title = 'Name')\n",
    "plt.show()"
   ]
  },
  {
   "cell_type": "code",
   "execution_count": null,
   "id": "11c2b257",
   "metadata": {},
   "outputs": [],
   "source": []
  }
 ],
 "metadata": {
  "kernelspec": {
   "display_name": "Python 3 (ipykernel)",
   "language": "python",
   "name": "python3"
  },
  "language_info": {
   "codemirror_mode": {
    "name": "ipython",
    "version": 3
   },
   "file_extension": ".py",
   "mimetype": "text/x-python",
   "name": "python",
   "nbconvert_exporter": "python",
   "pygments_lexer": "ipython3",
   "version": "3.11.5"
  }
 },
 "nbformat": 4,
 "nbformat_minor": 5
}
